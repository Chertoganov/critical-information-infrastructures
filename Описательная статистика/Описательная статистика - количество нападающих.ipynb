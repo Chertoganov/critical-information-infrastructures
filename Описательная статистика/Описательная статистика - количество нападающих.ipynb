{
 "cells": [
  {
   "cell_type": "code",
   "execution_count": 1,
   "metadata": {},
   "outputs": [],
   "source": [
    "import pandas as pd\n",
    "import numpy as np\n",
    "import seaborn as sns\n",
    "import matplotlib.pyplot as plt"
   ]
  },
  {
   "cell_type": "code",
   "execution_count": 2,
   "metadata": {},
   "outputs": [],
   "source": [
    "# загружаем набор данных инцидентов на объекты инфраструктуры с использованием типа оружия - рукопашный бой (не огнестрельное оружие)\n",
    "df1 = pd.read_csv('Facility_Melee.csv')"
   ]
  },
  {
   "cell_type": "code",
   "execution_count": 3,
   "metadata": {},
   "outputs": [],
   "source": [
    "# загружаем набор данных инцидентов на объекты инфраструктуры с использованием типа оружия - оборудование для саботажа\n",
    "df2 = pd.read_csv('Facility_Sabotage_Equipment.csv')"
   ]
  },
  {
   "cell_type": "code",
   "execution_count": 4,
   "metadata": {},
   "outputs": [
    {
     "data": {
      "text/plain": [
       "0       NaN\n",
       "1       NaN\n",
       "2       NaN\n",
       "3       NaN\n",
       "4      30.0\n",
       "       ... \n",
       "114    20.0\n",
       "115     1.0\n",
       "116     4.0\n",
       "117   -99.0\n",
       "118   -99.0\n",
       "Name: nperps, Length: 119, dtype: float64"
      ]
     },
     "execution_count": 4,
     "metadata": {},
     "output_type": "execute_result"
    }
   ],
   "source": [
    "#набор данных грязный - имеет пропуски, надо его очистить\n",
    "# -99 означает, что количество атакующих неизвестно\n",
    "# пропуску тоже стоит убрать\n",
    "df1['nperps']"
   ]
  },
  {
   "cell_type": "code",
   "execution_count": 5,
   "metadata": {},
   "outputs": [
    {
     "data": {
      "text/plain": [
       "0       1.0\n",
       "1       NaN\n",
       "2       NaN\n",
       "3       NaN\n",
       "4       NaN\n",
       "       ... \n",
       "145   -99.0\n",
       "146   -99.0\n",
       "147   -99.0\n",
       "148   -99.0\n",
       "149     1.0\n",
       "Name: nperps, Length: 150, dtype: float64"
      ]
     },
     "execution_count": 5,
     "metadata": {},
     "output_type": "execute_result"
    }
   ],
   "source": [
    "#набор данных грязный - имеет пропуски, надо его очистить\n",
    "# -99 означает, что количество атакующих неизвестно\n",
    "# пропуску тоже стоит убрать\n",
    "df2['nperps']"
   ]
  },
  {
   "cell_type": "code",
   "execution_count": 6,
   "metadata": {},
   "outputs": [
    {
     "data": {
      "text/plain": [
       "(119, 135)"
      ]
     },
     "execution_count": 6,
     "metadata": {},
     "output_type": "execute_result"
    }
   ],
   "source": [
    "# размер набор данных инцидентов на объекты инфраструктуры с использованием типа оружия - рукопашный бой (не огнестрельное оружие)\n",
    "df1.shape"
   ]
  },
  {
   "cell_type": "code",
   "execution_count": 7,
   "metadata": {},
   "outputs": [
    {
     "data": {
      "text/plain": [
       "(150, 135)"
      ]
     },
     "execution_count": 7,
     "metadata": {},
     "output_type": "execute_result"
    }
   ],
   "source": [
    "# размер набор данных инцидентов на объекты инфраструктуры с использованием типа оружия - саботажное оборудование\n",
    "df2.shape"
   ]
  },
  {
   "cell_type": "code",
   "execution_count": 8,
   "metadata": {},
   "outputs": [],
   "source": [
    "# убираем пропуски в наборе данных инцидентов на объекты инфраструктуры с использованием типа оружия - рукопашный бой (не огнестрельное оружие)\n",
    "df1.dropna(subset = [\"nperps\"], inplace=True)"
   ]
  },
  {
   "cell_type": "code",
   "execution_count": 9,
   "metadata": {},
   "outputs": [],
   "source": [
    "# убираем пропуски в наборе данных инцидентов на объекты инфраструктуры с использованием типа оружия - саботажное оборудование\n",
    "df2.dropna(subset = [\"nperps\"], inplace=True)"
   ]
  },
  {
   "cell_type": "code",
   "execution_count": 10,
   "metadata": {},
   "outputs": [
    {
     "data": {
      "text/plain": [
       "(46, 135)"
      ]
     },
     "execution_count": 10,
     "metadata": {},
     "output_type": "execute_result"
    }
   ],
   "source": [
    "# размер набор данных без пропусков в колонке \"количество нападающих\" инцидентов на объекты инфраструктуры с использованием типа оружия - рукопашный бой (не огнестрельное оружие)\n",
    "df1.shape"
   ]
  },
  {
   "cell_type": "code",
   "execution_count": 11,
   "metadata": {},
   "outputs": [
    {
     "data": {
      "text/plain": [
       "(109, 135)"
      ]
     },
     "execution_count": 11,
     "metadata": {},
     "output_type": "execute_result"
    }
   ],
   "source": [
    "# размер набор данных без пропусков в колонке \"количество нападающих\" инцидентов на объекты инфраструктуры с использованием типа оружия - саботажное оборудование\n",
    "df2.shape"
   ]
  },
  {
   "cell_type": "code",
   "execution_count": 12,
   "metadata": {},
   "outputs": [
    {
     "data": {
      "text/plain": [
       "4        30.0\n",
       "5        60.0\n",
       "6        20.0\n",
       "19       70.0\n",
       "20      -99.0\n",
       "22       12.0\n",
       "23       30.0\n",
       "25       40.0\n",
       "29       28.0\n",
       "30       50.0\n",
       "46       60.0\n",
       "58       10.0\n",
       "61      100.0\n",
       "65       22.0\n",
       "67       12.0\n",
       "69        1.0\n",
       "80        1.0\n",
       "84        8.0\n",
       "87       14.0\n",
       "88      100.0\n",
       "91      300.0\n",
       "92        5.0\n",
       "95       27.0\n",
       "96      -99.0\n",
       "97      -99.0\n",
       "98      -99.0\n",
       "99      100.0\n",
       "100     -99.0\n",
       "101       1.0\n",
       "102     -99.0\n",
       "103     -99.0\n",
       "104    3000.0\n",
       "105     -99.0\n",
       "106       3.0\n",
       "107       3.0\n",
       "108      14.0\n",
       "109      15.0\n",
       "110     -99.0\n",
       "111     -99.0\n",
       "112     -99.0\n",
       "113     -99.0\n",
       "114      20.0\n",
       "115       1.0\n",
       "116       4.0\n",
       "117     -99.0\n",
       "118     -99.0\n",
       "Name: nperps, dtype: float64"
      ]
     },
     "execution_count": 12,
     "metadata": {},
     "output_type": "execute_result"
    }
   ],
   "source": [
    "# остались значения -99, т.е. где количество нападающих неизвестно\n",
    "df1[\"nperps\"]"
   ]
  },
  {
   "cell_type": "code",
   "execution_count": 13,
   "metadata": {},
   "outputs": [
    {
     "data": {
      "text/plain": [
       "0       1.0\n",
       "5       3.0\n",
       "6     -99.0\n",
       "8     -99.0\n",
       "15    -99.0\n",
       "       ... \n",
       "145   -99.0\n",
       "146   -99.0\n",
       "147   -99.0\n",
       "148   -99.0\n",
       "149     1.0\n",
       "Name: nperps, Length: 109, dtype: float64"
      ]
     },
     "execution_count": 13,
     "metadata": {},
     "output_type": "execute_result"
    }
   ],
   "source": [
    "# остались значения -99, т.е. где количество нападающих неизвестно\n",
    "df2[\"nperps\"]"
   ]
  },
  {
   "cell_type": "code",
   "execution_count": 14,
   "metadata": {},
   "outputs": [],
   "source": [
    "# оставляем только те события (инцидеты), где количество нападажщих известно\n",
    "df11 = df1[df1[\"nperps\"] > 0]"
   ]
  },
  {
   "cell_type": "code",
   "execution_count": 15,
   "metadata": {},
   "outputs": [],
   "source": [
    "# оставляем только те события (инцидеты), где количество нападажщих известно\n",
    "df22 = df2[df2[\"nperps\"] > 0]"
   ]
  },
  {
   "cell_type": "code",
   "execution_count": 16,
   "metadata": {},
   "outputs": [
    {
     "data": {
      "text/plain": [
       "(32, 135)"
      ]
     },
     "execution_count": 16,
     "metadata": {},
     "output_type": "execute_result"
    }
   ],
   "source": [
    "# размер чистого набор данных инцидентов на объекты инфраструктуры с использованием типа оружия - рукопашный бой (не огнестрельное оружие)\n",
    "df11.shape"
   ]
  },
  {
   "cell_type": "code",
   "execution_count": 17,
   "metadata": {},
   "outputs": [
    {
     "data": {
      "text/plain": [
       "(20, 135)"
      ]
     },
     "execution_count": 17,
     "metadata": {},
     "output_type": "execute_result"
    }
   ],
   "source": [
    "# размер чистого набор данных инцидентов на объекты инфраструктуры с использованием типа оружия - саботажное оборудование\n",
    "df22.shape"
   ]
  },
  {
   "cell_type": "code",
   "execution_count": 18,
   "metadata": {},
   "outputs": [
    {
     "data": {
      "text/plain": [
       "4        30.0\n",
       "5        60.0\n",
       "6        20.0\n",
       "19       70.0\n",
       "22       12.0\n",
       "23       30.0\n",
       "25       40.0\n",
       "29       28.0\n",
       "30       50.0\n",
       "46       60.0\n",
       "58       10.0\n",
       "61      100.0\n",
       "65       22.0\n",
       "67       12.0\n",
       "69        1.0\n",
       "80        1.0\n",
       "84        8.0\n",
       "87       14.0\n",
       "88      100.0\n",
       "91      300.0\n",
       "92        5.0\n",
       "95       27.0\n",
       "99      100.0\n",
       "101       1.0\n",
       "104    3000.0\n",
       "106       3.0\n",
       "107       3.0\n",
       "108      14.0\n",
       "109      15.0\n",
       "114      20.0\n",
       "115       1.0\n",
       "116       4.0\n",
       "Name: nperps, dtype: float64"
      ]
     },
     "execution_count": 18,
     "metadata": {},
     "output_type": "execute_result"
    }
   ],
   "source": [
    "# чистый набор данных инцидентов на объекты инфраструктуры с использованием типа оружия - рукопашный бой (не огнестрельное оружие)\n",
    "df11[\"nperps\"]"
   ]
  },
  {
   "cell_type": "code",
   "execution_count": 19,
   "metadata": {},
   "outputs": [
    {
     "data": {
      "text/plain": [
       "0        1.0\n",
       "5        3.0\n",
       "17       2.0\n",
       "18       4.0\n",
       "19       4.0\n",
       "20       4.0\n",
       "22       2.0\n",
       "35       4.0\n",
       "36      80.0\n",
       "78      10.0\n",
       "84     100.0\n",
       "85     100.0\n",
       "87     100.0\n",
       "94      25.0\n",
       "102      1.0\n",
       "128      1.0\n",
       "130      1.0\n",
       "134     30.0\n",
       "143      1.0\n",
       "149      1.0\n",
       "Name: nperps, dtype: float64"
      ]
     },
     "execution_count": 19,
     "metadata": {},
     "output_type": "execute_result"
    }
   ],
   "source": [
    "# чистый набор данных инцидентов на объекты инфраструктуры с использованием типа оружия - саботажное оборудование\n",
    "df22[\"nperps\"]"
   ]
  },
  {
   "cell_type": "code",
   "execution_count": 20,
   "metadata": {},
   "outputs": [
    {
     "data": {
      "text/plain": [
       "count      32.000000\n",
       "mean      130.031250\n",
       "std       526.732746\n",
       "min         1.000000\n",
       "25%         7.250000\n",
       "50%        20.000000\n",
       "75%        52.500000\n",
       "max      3000.000000\n",
       "Name: nperps, dtype: float64"
      ]
     },
     "execution_count": 20,
     "metadata": {},
     "output_type": "execute_result"
    }
   ],
   "source": [
    "# описательная статистика чистый набор данных инцидентов на объекты инфраструктуры с использованием типа оружия - рукопашный бой (не огнестрельное оружие)\n",
    "df11[\"nperps\"].describe()"
   ]
  },
  {
   "cell_type": "code",
   "execution_count": 21,
   "metadata": {},
   "outputs": [
    {
     "data": {
      "text/plain": [
       "count     20.000000\n",
       "mean      23.700000\n",
       "std       37.611728\n",
       "min        1.000000\n",
       "25%        1.000000\n",
       "50%        4.000000\n",
       "75%       26.250000\n",
       "max      100.000000\n",
       "Name: nperps, dtype: float64"
      ]
     },
     "execution_count": 21,
     "metadata": {},
     "output_type": "execute_result"
    }
   ],
   "source": [
    "# описательная статистика чистый набор данных инцидентов на объекты инфраструктуры с использованием типа оружия - рукопашный бой (не огнестрельное оружие)\n",
    "df22[\"nperps\"].describe()"
   ]
  },
  {
   "cell_type": "markdown",
   "metadata": {},
   "source": [
    "### Среднее значение \"количества нападающих\" во время атаки на инфраструктуру с использованием рукопашного боя: 130.031250 или примерно 131, так как не можем быть дробное число\n",
    "\n",
    "### Среднее квадратическое отклонение \"количества нападающих\" во время атаки на инфраструктуру  с использованием рукопашного боя: 526.732746 или примерно 527, так как не можем быть дробное число"
   ]
  },
  {
   "cell_type": "markdown",
   "metadata": {},
   "source": [
    "### Среднее значение \"количества нападающих\" во время атаки на инфраструктуру с использованием оборудования для саботажа: 23.7 или примерно 24, так как не можем быть дробное число\n",
    "\n",
    "### Среднее квадратическое отклонение \"количества нападающих\" с использованием оборудования для саботажа во время атаки на инфраструктуру: 37.611728 или примерно 38, так как не можем быть дробное число"
   ]
  },
  {
   "cell_type": "markdown",
   "metadata": {},
   "source": [
    "### Примечание: так как выбросы мы не убираем, то в будущем будем пользоваться - непараметрическими методами статистики"
   ]
  },
  {
   "cell_type": "markdown",
   "metadata": {},
   "source": [
    "### Сохраняем чистые наборы данных инцдинтов на критические инфраструктуры с использованием рукопашного боя (32 инцидента) и оборудования для саботажа (20 инцидентов)\n"
   ]
  },
  {
   "cell_type": "code",
   "execution_count": 35,
   "metadata": {},
   "outputs": [],
   "source": [
    "df11[\"nperps\"].to_csv(\"Facility_Melee_clean_32.csv\", index = False)"
   ]
  },
  {
   "cell_type": "code",
   "execution_count": 36,
   "metadata": {},
   "outputs": [],
   "source": [
    "df22[\"nperps\"].to_csv(\"Facility_Sabotage_Equipment_clean_20.csv\", index = False)"
   ]
  },
  {
   "cell_type": "code",
   "execution_count": 2,
   "metadata": {},
   "outputs": [],
   "source": [
    "#считываем данные"
   ]
  },
  {
   "cell_type": "code",
   "execution_count": 22,
   "metadata": {},
   "outputs": [],
   "source": [
    "#считываем данные\n",
    "df11 = pd.read_csv(\"Facility_Melee_clean_32.csv\")\n",
    "df22 = pd.read_csv(\"Facility_Sabotage_Equipment_clean_20.csv\")"
   ]
  },
  {
   "cell_type": "code",
   "execution_count": 23,
   "metadata": {},
   "outputs": [],
   "source": [
    "df11[\"распределение количества нападающих с использованием рукопашного боя\"] = df11[\"nperps\"]\n",
    "df22[\"распределение количества нападающих с использованием оборудования для саботажа\"] = df22[\"nperps\"]"
   ]
  },
  {
   "cell_type": "markdown",
   "metadata": {},
   "source": [
    "### посмотрим на средние значения и выбросы "
   ]
  },
  {
   "cell_type": "code",
   "execution_count": 24,
   "metadata": {},
   "outputs": [],
   "source": [
    "df11[\"количество нападающих с использованием рукопашного боя\"] = df11[\"nperps\"]\n",
    "df22[\"количество нападающих с использованием оборудования для саботажа\"] = df22[\"nperps\"]"
   ]
  },
  {
   "cell_type": "code",
   "execution_count": 25,
   "metadata": {},
   "outputs": [
    {
     "data": {
      "image/png": "[encoded data removed]",
      "text/plain": [
       "<Figure size 432x288 with 1 Axes>"
      ]
     },
     "metadata": {
      "needs_background": "light"
     },
     "output_type": "display_data"
    }
   ],
   "source": [
    "import seaborn as sns\n",
    "#sns.set_theme(style=\"whitegrid\")\n",
    "tips = sns.load_dataset(\"tips\")\n",
    "ax = sns.boxplot(x=df11[\"количество нападающих с использованием рукопашного боя\"])"
   ]
  },
  {
   "cell_type": "code",
   "execution_count": 26,
   "metadata": {},
   "outputs": [
    {
     "data": {
      "image/png": "[encoded data removed]",
      "text/plain": [
       "<Figure size 432x288 with 1 Axes>"
      ]
     },
     "metadata": {
      "needs_background": "light"
     },
     "output_type": "display_data"
    }
   ],
   "source": [
    "import seaborn as sns\n",
    "#sns.set_theme(style=\"whitegrid\")\n",
    "tips = sns.load_dataset(\"tips\")\n",
    "ax = sns.boxplot(x=df22[\"количество нападающих с использованием оборудования для саботажа\"])"
   ]
  },
  {
   "cell_type": "code",
   "execution_count": 34,
   "metadata": {},
   "outputs": [
    {
     "data": {
      "text/plain": [
       "<AxesSubplot:xlabel='распределение количества нападающих с использованием рукопашного боя', ylabel='Count'>"
      ]
     },
     "execution_count": 34,
     "metadata": {},
     "output_type": "execute_result"
    },
    {
     "data": {
      "image/png": "[encoded data removed]",
      "text/plain": [
       "<Figure size 432x288 with 1 Axes>"
      ]
     },
     "metadata": {
      "needs_background": "light"
     },
     "output_type": "display_data"
    }
   ],
   "source": [
    "sns.histplot(data=df11, x=\"распределение количества нападающих с использованием рукопашного боя\", kde=True)"
   ]
  },
  {
   "cell_type": "code",
   "execution_count": 35,
   "metadata": {},
   "outputs": [
    {
     "data": {
      "text/plain": [
       "<AxesSubplot:xlabel='распределение количества нападающих с использованием оборудования для саботажа', ylabel='Count'>"
      ]
     },
     "execution_count": 35,
     "metadata": {},
     "output_type": "execute_result"
    },
    {
     "data": {
      "image/png": "[encoded data removed]",
      "text/plain": [
       "<Figure size 432x288 with 1 Axes>"
      ]
     },
     "metadata": {
      "needs_background": "light"
     },
     "output_type": "display_data"
    }
   ],
   "source": [
    "sns.histplot(data=df22, x=\"распределение количества нападающих с использованием оборудования для саботажа\", kde=True)"
   ]
  },
  {
   "cell_type": "code",
   "execution_count": null,
   "metadata": {},
   "outputs": [],
   "source": []
  }
 ],
 "metadata": {
  "kernelspec": {
   "display_name": "Python 3",
   "language": "python",
   "name": "python3"
  },
  "language_info": {
   "codemirror_mode": {
    "name": "ipython",
    "version": 3
   },
   "file_extension": ".py",
   "mimetype": "text/x-python",
   "name": "python",
   "nbconvert_exporter": "python",
   "pygments_lexer": "ipython3",
   "version": "3.8.5"
  }
 },
 "nbformat": 4,
 "nbformat_minor": 4
}
