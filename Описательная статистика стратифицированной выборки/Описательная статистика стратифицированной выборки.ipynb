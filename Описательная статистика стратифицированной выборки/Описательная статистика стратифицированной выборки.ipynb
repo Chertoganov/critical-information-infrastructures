{
 "cells": [
  {
   "cell_type": "code",
   "execution_count": 1,
   "metadata": {},
   "outputs": [],
   "source": [
    "import pandas as pd\n",
    "import numpy as np\n",
    "import seaborn as sns\n",
    "import matplotlib.pyplot as plt"
   ]
  },
  {
   "cell_type": "code",
   "execution_count": 2,
   "metadata": {},
   "outputs": [],
   "source": [
    "# загружаем набор данных инцидентов на объекты инфраструктуры с использованием типа оружия - рукопашный бой (не огнестрельное оружие)\n",
    "df1 = pd.read_csv('кол_во_атакующих_стратифицированная_случайная_выборка_18_инцидентов_рукопашный_бой.csv')"
   ]
  },
  {
   "cell_type": "code",
   "execution_count": 3,
   "metadata": {},
   "outputs": [],
   "source": [
    "# загружаем набор данных инцидентов на объекты инфраструктуры с использованием типа оружия - оборудование для саботажа\n",
    "df2 = pd.read_csv('кол_во_атакующих_стратифицированная_случайная_выборка_18_инцидентов_саботаж.csv')"
   ]
  },
  {
   "cell_type": "code",
   "execution_count": 4,
   "metadata": {},
   "outputs": [
    {
     "data": {
      "text/plain": [
       "0      5.0\n",
       "1     20.0\n",
       "2      3.0\n",
       "3     70.0\n",
       "4      4.0\n",
       "5     60.0\n",
       "6     28.0\n",
       "7     12.0\n",
       "8      1.0\n",
       "9     15.0\n",
       "10    30.0\n",
       "11     3.0\n",
       "12    14.0\n",
       "13     8.0\n",
       "14    40.0\n",
       "15    20.0\n",
       "16    30.0\n",
       "17     1.0\n",
       "Name: nperps, dtype: float64"
      ]
     },
     "execution_count": 4,
     "metadata": {},
     "output_type": "execute_result"
    }
   ],
   "source": [
    "#набор данных грязный - имеет пропуски, надо его очистить\n",
    "# -99 означает, что количество атакующих неизвестно\n",
    "# пропуску тоже стоит убрать\n",
    "df1['nperps']"
   ]
  },
  {
   "cell_type": "code",
   "execution_count": 5,
   "metadata": {},
   "outputs": [
    {
     "data": {
      "text/plain": [
       "0       4.0\n",
       "1       1.0\n",
       "2       1.0\n",
       "3       4.0\n",
       "4       2.0\n",
       "5     100.0\n",
       "6     100.0\n",
       "7       1.0\n",
       "8       3.0\n",
       "9      80.0\n",
       "10      1.0\n",
       "11     10.0\n",
       "12    100.0\n",
       "13     30.0\n",
       "14      4.0\n",
       "15      1.0\n",
       "16     25.0\n",
       "17      1.0\n",
       "Name: nperps, dtype: float64"
      ]
     },
     "execution_count": 5,
     "metadata": {},
     "output_type": "execute_result"
    }
   ],
   "source": [
    "#набор данных грязный - имеет пропуски, надо его очистить\n",
    "# -99 означает, что количество атакующих неизвестно\n",
    "# пропуску тоже стоит убрать\n",
    "df2['nperps']"
   ]
  },
  {
   "cell_type": "code",
   "execution_count": 6,
   "metadata": {},
   "outputs": [
    {
     "data": {
      "text/plain": [
       "(18, 136)"
      ]
     },
     "execution_count": 6,
     "metadata": {},
     "output_type": "execute_result"
    }
   ],
   "source": [
    "# размер набор данных инцидентов на объекты инфраструктуры с использованием типа оружия - рукопашный бой (не огнестрельное оружие)\n",
    "df1.shape"
   ]
  },
  {
   "cell_type": "code",
   "execution_count": 7,
   "metadata": {},
   "outputs": [
    {
     "data": {
      "text/plain": [
       "(18, 136)"
      ]
     },
     "execution_count": 7,
     "metadata": {},
     "output_type": "execute_result"
    }
   ],
   "source": [
    "# размер набор данных инцидентов на объекты инфраструктуры с использованием типа оружия - саботажное оборудование\n",
    "df2.shape"
   ]
  },
  {
   "cell_type": "code",
   "execution_count": 9,
   "metadata": {},
   "outputs": [
    {
     "data": {
      "text/plain": [
       "count    18.000000\n",
       "mean     20.222222\n",
       "std      20.019272\n",
       "min       1.000000\n",
       "25%       4.250000\n",
       "50%      14.500000\n",
       "75%      29.500000\n",
       "max      70.000000\n",
       "Name: nperps, dtype: float64"
      ]
     },
     "execution_count": 9,
     "metadata": {},
     "output_type": "execute_result"
    }
   ],
   "source": [
    "# описательная статистика чистый набор данных инцидентов на объекты инфраструктуры с использованием типа оружия - рукопашный бой (не огнестрельное оружие)\n",
    "df1[\"nperps\"].describe()"
   ]
  },
  {
   "cell_type": "code",
   "execution_count": 10,
   "metadata": {},
   "outputs": [
    {
     "data": {
      "text/plain": [
       "count     18.000000\n",
       "mean      26.000000\n",
       "std       39.050495\n",
       "min        1.000000\n",
       "25%        1.000000\n",
       "50%        4.000000\n",
       "75%       28.750000\n",
       "max      100.000000\n",
       "Name: nperps, dtype: float64"
      ]
     },
     "execution_count": 10,
     "metadata": {},
     "output_type": "execute_result"
    }
   ],
   "source": [
    "# описательная статистика чистый набор данных инцидентов на объекты инфраструктуры с использованием типа оружия - рукопашный бой (не огнестрельное оружие)\n",
    "df2[\"nperps\"].describe()"
   ]
  },
  {
   "cell_type": "markdown",
   "metadata": {},
   "source": [
    "### Среднее значение \"количества нападающих\" во время атаки на инфраструктуру с использованием рукопашного боя: 20.222222 или примерно 21, так как не можем быть дробное число"
   ]
  },
  {
   "cell_type": "markdown",
   "metadata": {},
   "source": [
    "### Среднее значение \"количества нападающих\" во время атаки на инфраструктуру с использованием оборудования для саботажа: 26"
   ]
  },
  {
   "cell_type": "code",
   "execution_count": null,
   "metadata": {},
   "outputs": [],
   "source": []
  }
 ],
 "metadata": {
  "kernelspec": {
   "display_name": "Python 3",
   "language": "python",
   "name": "python3"
  },
  "language_info": {
   "codemirror_mode": {
    "name": "ipython",
    "version": 3
   },
   "file_extension": ".py",
   "mimetype": "text/x-python",
   "name": "python",
   "nbconvert_exporter": "python",
   "pygments_lexer": "ipython3",
   "version": "3.8.5"
  }
 },
 "nbformat": 4,
 "nbformat_minor": 4
}
