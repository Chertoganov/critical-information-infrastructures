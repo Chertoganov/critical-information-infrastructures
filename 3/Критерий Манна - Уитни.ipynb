{
 "cells": [
  {
   "cell_type": "markdown",
   "metadata": {},
   "source": [
    "# Критерий Манна - Уитни"
   ]
  },
  {
   "cell_type": "markdown",
   "metadata": {},
   "source": [
    "## Создай функции графиков распределения и критерия Мана - Уитни"
   ]
  },
  {
   "cell_type": "code",
   "execution_count": 56,
   "metadata": {},
   "outputs": [],
   "source": [
    "#импортируем необходимые библиотеки\n",
    "import pandas as pd\n",
    "import matplotlib.pyplot as plt\n",
    "import scipy.stats as stats"
   ]
  },
  {
   "cell_type": "code",
   "execution_count": 57,
   "metadata": {},
   "outputs": [],
   "source": [
    "## Создаем функцию графиков распределения\n",
    "def generate_distribution_histogram(dataframe, \n",
    "                                    column_name, \n",
    "                                    title, x_axis_label, y_axis_label,\n",
    "                                    label_name,\n",
    "                                    number_bins = 15):\n",
    "    \"\"\"\n",
    "    This function generates a histogram.\n",
    "    Args:\n",
    "        dataframe:\n",
    "        column_name: String. Name of the column whose distribution we\n",
    "        want to visualize.\n",
    "        title: String. Title of the histogram.\n",
    "        x_axis_label: String. X-axis label.\n",
    "        y_axis_label: String. Y-axis label.\n",
    "    Outputs:\n",
    "        Histogram containing distribution for specific column column_name.\n",
    "    \"\"\"\n",
    "    plt.hist(dataframe[column_name], bins = number_bins, label = label_name)\n",
    "    plt.title(title)\n",
    "    plt.xlabel(x_axis_label)\n",
    "    plt.ylabel(y_axis_label)\n",
    "    plt.legend(loc='upper right')"
   ]
  },
  {
   "cell_type": "code",
   "execution_count": 58,
   "metadata": {},
   "outputs": [],
   "source": [
    "## Создаем функцию критерия Мана - Уитни\n",
    "def mann_whitney_u_test(distribution_1, distribution_2):\n",
    "    \"\"\"\n",
    "    Perform the Mann-Whitney U Test, comparing two different distributions.\n",
    "    Args:\n",
    "       distribution_1: List. First distribution that we want to compare.\n",
    "       distribution_2: List. Second distribution that we want to compare.\n",
    "    Outputs:\n",
    "        u_statistic: Float. U statisitic for the test.\n",
    "        p_value: Float. p-value for the test.\n",
    "    \"\"\"\n",
    "    u_statistic, p_value = stats.mannwhitneyu(distribution_1, distribution_2)\n",
    "    #Print the results\n",
    "    print('U-Statistic: ', u_statistic)\n",
    "    print('p-value: ', p_value)\n",
    "    return u_statistic, p_value"
   ]
  },
  {
   "cell_type": "code",
   "execution_count": 59,
   "metadata": {},
   "outputs": [],
   "source": [
    "### Загружаем данные\n",
    "df1 = pd.read_csv('кол_во_атакующих_стратифицированная_случайная_выборка_18_инцидентов_рукопашный_бой.csv')\n",
    "### Загружаем данные\n",
    "df2 = pd.read_csv('кол_во_атакующих_стратифицированная_случайная_выборка_18_инцидентов_саботаж.csv')"
   ]
  },
  {
   "cell_type": "code",
   "execution_count": 60,
   "metadata": {},
   "outputs": [
    {
     "data": {
      "image/png": "[encoded data removed]",
      "text/plain": [
       "<Figure size 432x288 with 1 Axes>"
      ]
     },
     "metadata": {
      "needs_background": "light"
     },
     "output_type": "display_data"
    }
   ],
   "source": [
    "# Распределение количества нападающих - рукопашный бой\n",
    "generate_distribution_histogram(df1, 'nperps',\n",
    "                                    title = 'Распределение количества нападающих',\n",
    "                                    x_axis_label = 'Количество нападающих',\n",
    "                                    y_axis_label = 'Количество инцидентов',\n",
    "                                    label_name = 'рукопашный бой')"
   ]
  },
  {
   "cell_type": "code",
   "execution_count": 61,
   "metadata": {},
   "outputs": [
    {
     "data": {
      "image/png": "[encoded data removed]",
      "text/plain": [
       "<Figure size 432x288 with 1 Axes>"
      ]
     },
     "metadata": {
      "needs_background": "light"
     },
     "output_type": "display_data"
    }
   ],
   "source": [
    "# Распределение количества нападающих - саботаж\n",
    "generate_distribution_histogram(df2, 'nperps',\n",
    "                                    title = 'Распределение количества нападающих',\n",
    "                                    x_axis_label = 'Количество нападающих',\n",
    "                                    y_axis_label = 'Количество инцидентов',\n",
    "                                    label_name = 'саботаж')"
   ]
  },
  {
   "cell_type": "code",
   "execution_count": 62,
   "metadata": {},
   "outputs": [],
   "source": [
    "# Группа 1 - рукопашный бой\n",
    "# Группа 2 - саботаж\n",
    "group1 = df1\n",
    "group2 = df2"
   ]
  },
  {
   "cell_type": "code",
   "execution_count": 63,
   "metadata": {},
   "outputs": [
    {
     "data": {
      "text/html": [
       "<div>\n",
       "<style scoped>\n",
       "    .dataframe tbody tr th:only-of-type {\n",
       "        vertical-align: middle;\n",
       "    }\n",
       "\n",
       "    .dataframe tbody tr th {\n",
       "        vertical-align: top;\n",
       "    }\n",
       "\n",
       "    .dataframe thead th {\n",
       "        text-align: right;\n",
       "    }\n",
       "</style>\n",
       "<table border=\"1\" class=\"dataframe\">\n",
       "  <thead>\n",
       "    <tr style=\"text-align: right;\">\n",
       "      <th></th>\n",
       "      <th>eventid</th>\n",
       "      <th>iyear</th>\n",
       "      <th>imonth</th>\n",
       "      <th>iday</th>\n",
       "      <th>approxdate</th>\n",
       "      <th>extended</th>\n",
       "      <th>resolution</th>\n",
       "      <th>country</th>\n",
       "      <th>country_txt</th>\n",
       "      <th>region</th>\n",
       "      <th>...</th>\n",
       "      <th>scite1</th>\n",
       "      <th>scite2</th>\n",
       "      <th>scite3</th>\n",
       "      <th>dbsource</th>\n",
       "      <th>INT_LOG</th>\n",
       "      <th>INT_IDEO</th>\n",
       "      <th>INT_MISC</th>\n",
       "      <th>INT_ANY</th>\n",
       "      <th>related</th>\n",
       "      <th>fight</th>\n",
       "    </tr>\n",
       "  </thead>\n",
       "  <tbody>\n",
       "    <tr>\n",
       "      <th>0</th>\n",
       "      <td>200612310008</td>\n",
       "      <td>2006</td>\n",
       "      <td>12</td>\n",
       "      <td>31</td>\n",
       "      <td>NaN</td>\n",
       "      <td>0</td>\n",
       "      <td>NaN</td>\n",
       "      <td>141</td>\n",
       "      <td>Nepal</td>\n",
       "      <td>6</td>\n",
       "      <td>...</td>\n",
       "      <td>\"JTMM opens fire on Kantipur vehicle,\" ekantip...</td>\n",
       "      <td>NaN</td>\n",
       "      <td>NaN</td>\n",
       "      <td>UMD JTMM Nepal 2012</td>\n",
       "      <td>0</td>\n",
       "      <td>0</td>\n",
       "      <td>0</td>\n",
       "      <td>0</td>\n",
       "      <td>NaN</td>\n",
       "      <td>рукопашный бой</td>\n",
       "    </tr>\n",
       "    <tr>\n",
       "      <th>1</th>\n",
       "      <td>201705240049</td>\n",
       "      <td>2017</td>\n",
       "      <td>5</td>\n",
       "      <td>24</td>\n",
       "      <td>NaN</td>\n",
       "      <td>0</td>\n",
       "      <td>NaN</td>\n",
       "      <td>78</td>\n",
       "      <td>Greece</td>\n",
       "      <td>8</td>\n",
       "      <td>...</td>\n",
       "      <td>\"Anarchists upset student union elections, one...</td>\n",
       "      <td>NaN</td>\n",
       "      <td>NaN</td>\n",
       "      <td>START Primary Collection</td>\n",
       "      <td>-9</td>\n",
       "      <td>-9</td>\n",
       "      <td>0</td>\n",
       "      <td>-9</td>\n",
       "      <td>NaN</td>\n",
       "      <td>рукопашный бой</td>\n",
       "    </tr>\n",
       "    <tr>\n",
       "      <th>2</th>\n",
       "      <td>201511110065</td>\n",
       "      <td>2015</td>\n",
       "      <td>11</td>\n",
       "      <td>11</td>\n",
       "      <td>NaN</td>\n",
       "      <td>0</td>\n",
       "      <td>NaN</td>\n",
       "      <td>603</td>\n",
       "      <td>United Kingdom</td>\n",
       "      <td>8</td>\n",
       "      <td>...</td>\n",
       "      <td>\"Attack on Catholic home blamed on loyalist ga...</td>\n",
       "      <td>NaN</td>\n",
       "      <td>NaN</td>\n",
       "      <td>START Primary Collection</td>\n",
       "      <td>0</td>\n",
       "      <td>0</td>\n",
       "      <td>1</td>\n",
       "      <td>1</td>\n",
       "      <td>NaN</td>\n",
       "      <td>рукопашный бой</td>\n",
       "    </tr>\n",
       "    <tr>\n",
       "      <th>3</th>\n",
       "      <td>199107120014</td>\n",
       "      <td>1991</td>\n",
       "      <td>7</td>\n",
       "      <td>12</td>\n",
       "      <td>NaN</td>\n",
       "      <td>0</td>\n",
       "      <td>NaN</td>\n",
       "      <td>142</td>\n",
       "      <td>Netherlands</td>\n",
       "      <td>8</td>\n",
       "      <td>...</td>\n",
       "      <td>NaN</td>\n",
       "      <td>NaN</td>\n",
       "      <td>NaN</td>\n",
       "      <td>PGIS</td>\n",
       "      <td>-9</td>\n",
       "      <td>-9</td>\n",
       "      <td>1</td>\n",
       "      <td>1</td>\n",
       "      <td>NaN</td>\n",
       "      <td>рукопашный бой</td>\n",
       "    </tr>\n",
       "    <tr>\n",
       "      <th>4</th>\n",
       "      <td>201808260015</td>\n",
       "      <td>2018</td>\n",
       "      <td>8</td>\n",
       "      <td>25</td>\n",
       "      <td>NaN</td>\n",
       "      <td>0</td>\n",
       "      <td>NaN</td>\n",
       "      <td>78</td>\n",
       "      <td>Greece</td>\n",
       "      <td>8</td>\n",
       "      <td>...</td>\n",
       "      <td>\"State PAO: Greece: Daily Media Roundup Monday...</td>\n",
       "      <td>NaN</td>\n",
       "      <td>NaN</td>\n",
       "      <td>START Primary Collection</td>\n",
       "      <td>0</td>\n",
       "      <td>0</td>\n",
       "      <td>0</td>\n",
       "      <td>0</td>\n",
       "      <td>NaN</td>\n",
       "      <td>рукопашный бой</td>\n",
       "    </tr>\n",
       "  </tbody>\n",
       "</table>\n",
       "<p>5 rows × 136 columns</p>\n",
       "</div>"
      ],
      "text/plain": [
       "        eventid  iyear  imonth  iday  approxdate  extended  resolution  \\\n",
       "0  200612310008   2006      12    31         NaN         0         NaN   \n",
       "1  201705240049   2017       5    24         NaN         0         NaN   \n",
       "2  201511110065   2015      11    11         NaN         0         NaN   \n",
       "3  199107120014   1991       7    12         NaN         0         NaN   \n",
       "4  201808260015   2018       8    25         NaN         0         NaN   \n",
       "\n",
       "   country     country_txt  region  ...  \\\n",
       "0      141           Nepal       6  ...   \n",
       "1       78          Greece       8  ...   \n",
       "2      603  United Kingdom       8  ...   \n",
       "3      142     Netherlands       8  ...   \n",
       "4       78          Greece       8  ...   \n",
       "\n",
       "                                              scite1 scite2 scite3  \\\n",
       "0  \"JTMM opens fire on Kantipur vehicle,\" ekantip...    NaN    NaN   \n",
       "1  \"Anarchists upset student union elections, one...    NaN    NaN   \n",
       "2  \"Attack on Catholic home blamed on loyalist ga...    NaN    NaN   \n",
       "3                                                NaN    NaN    NaN   \n",
       "4  \"State PAO: Greece: Daily Media Roundup Monday...    NaN    NaN   \n",
       "\n",
       "                   dbsource  INT_LOG  INT_IDEO  INT_MISC INT_ANY related  \\\n",
       "0       UMD JTMM Nepal 2012        0         0         0       0     NaN   \n",
       "1  START Primary Collection       -9        -9         0      -9     NaN   \n",
       "2  START Primary Collection        0         0         1       1     NaN   \n",
       "3                      PGIS       -9        -9         1       1     NaN   \n",
       "4  START Primary Collection        0         0         0       0     NaN   \n",
       "\n",
       "            fight  \n",
       "0  рукопашный бой  \n",
       "1  рукопашный бой  \n",
       "2  рукопашный бой  \n",
       "3  рукопашный бой  \n",
       "4  рукопашный бой  \n",
       "\n",
       "[5 rows x 136 columns]"
      ]
     },
     "execution_count": 63,
     "metadata": {},
     "output_type": "execute_result"
    }
   ],
   "source": [
    "# Группа 1 - рукопашный бой\n",
    "group1.head()"
   ]
  },
  {
   "cell_type": "code",
   "execution_count": 64,
   "metadata": {},
   "outputs": [
    {
     "data": {
      "text/html": [
       "<div>\n",
       "<style scoped>\n",
       "    .dataframe tbody tr th:only-of-type {\n",
       "        vertical-align: middle;\n",
       "    }\n",
       "\n",
       "    .dataframe tbody tr th {\n",
       "        vertical-align: top;\n",
       "    }\n",
       "\n",
       "    .dataframe thead th {\n",
       "        text-align: right;\n",
       "    }\n",
       "</style>\n",
       "<table border=\"1\" class=\"dataframe\">\n",
       "  <thead>\n",
       "    <tr style=\"text-align: right;\">\n",
       "      <th></th>\n",
       "      <th>eventid</th>\n",
       "      <th>iyear</th>\n",
       "      <th>imonth</th>\n",
       "      <th>iday</th>\n",
       "      <th>approxdate</th>\n",
       "      <th>extended</th>\n",
       "      <th>resolution</th>\n",
       "      <th>country</th>\n",
       "      <th>country_txt</th>\n",
       "      <th>region</th>\n",
       "      <th>...</th>\n",
       "      <th>scite1</th>\n",
       "      <th>scite2</th>\n",
       "      <th>scite3</th>\n",
       "      <th>dbsource</th>\n",
       "      <th>INT_LOG</th>\n",
       "      <th>INT_IDEO</th>\n",
       "      <th>INT_MISC</th>\n",
       "      <th>INT_ANY</th>\n",
       "      <th>related</th>\n",
       "      <th>fight</th>\n",
       "    </tr>\n",
       "  </thead>\n",
       "  <tbody>\n",
       "    <tr>\n",
       "      <th>0</th>\n",
       "      <td>198810250013</td>\n",
       "      <td>1988</td>\n",
       "      <td>10</td>\n",
       "      <td>25</td>\n",
       "      <td>October 25-26, 1988</td>\n",
       "      <td>0</td>\n",
       "      <td>NaN</td>\n",
       "      <td>217</td>\n",
       "      <td>United States</td>\n",
       "      <td>1</td>\n",
       "      <td>...</td>\n",
       "      <td>FBI, \"Terrorism in the United States: 1988,\" T...</td>\n",
       "      <td>Angela Astle, \"Sabotage of ski lift detailed i...</td>\n",
       "      <td>\"The charges against Earth First! Members- a c...</td>\n",
       "      <td>Eco Project 2010</td>\n",
       "      <td>0</td>\n",
       "      <td>0</td>\n",
       "      <td>0</td>\n",
       "      <td>0</td>\n",
       "      <td>NaN</td>\n",
       "      <td>саботаж</td>\n",
       "    </tr>\n",
       "    <tr>\n",
       "      <th>1</th>\n",
       "      <td>201707280045</td>\n",
       "      <td>2017</td>\n",
       "      <td>7</td>\n",
       "      <td>28</td>\n",
       "      <td>NaN</td>\n",
       "      <td>0</td>\n",
       "      <td>NaN</td>\n",
       "      <td>54</td>\n",
       "      <td>Czech Republic</td>\n",
       "      <td>9</td>\n",
       "      <td>...</td>\n",
       "      <td>\"Revision: Prague - Czech 'fake jihadist' face...</td>\n",
       "      <td>\"Man caused train crashes then left Arabic mes...</td>\n",
       "      <td>\"Terrorism Digest 13-14 January 2019,\" BBC Mon...</td>\n",
       "      <td>START Primary Collection</td>\n",
       "      <td>-9</td>\n",
       "      <td>-9</td>\n",
       "      <td>0</td>\n",
       "      <td>-9</td>\n",
       "      <td>NaN</td>\n",
       "      <td>саботаж</td>\n",
       "    </tr>\n",
       "    <tr>\n",
       "      <th>2</th>\n",
       "      <td>201810070039</td>\n",
       "      <td>2018</td>\n",
       "      <td>10</td>\n",
       "      <td>7</td>\n",
       "      <td>NaN</td>\n",
       "      <td>0</td>\n",
       "      <td>NaN</td>\n",
       "      <td>75</td>\n",
       "      <td>Germany</td>\n",
       "      <td>8</td>\n",
       "      <td>...</td>\n",
       "      <td>\"Terrorism Digest: 28-29 October 2018,\" BBC Mo...</td>\n",
       "      <td>\"Germany: Islamic Bulletin for 24-30 October 2...</td>\n",
       "      <td>NaN</td>\n",
       "      <td>START Primary Collection</td>\n",
       "      <td>-9</td>\n",
       "      <td>-9</td>\n",
       "      <td>0</td>\n",
       "      <td>-9</td>\n",
       "      <td>NaN</td>\n",
       "      <td>саботаж</td>\n",
       "    </tr>\n",
       "    <tr>\n",
       "      <th>3</th>\n",
       "      <td>198711070018</td>\n",
       "      <td>1987</td>\n",
       "      <td>11</td>\n",
       "      <td>7</td>\n",
       "      <td>NaN</td>\n",
       "      <td>0</td>\n",
       "      <td>NaN</td>\n",
       "      <td>217</td>\n",
       "      <td>United States</td>\n",
       "      <td>1</td>\n",
       "      <td>...</td>\n",
       "      <td>FBI, \"Terrorism in the United States: 1988,\" T...</td>\n",
       "      <td>Angela Astle, \"Sabotage of ski lift detailed i...</td>\n",
       "      <td>Charlene Smith, \"Environmental Activists Sente...</td>\n",
       "      <td>Eco Project 2010</td>\n",
       "      <td>0</td>\n",
       "      <td>0</td>\n",
       "      <td>0</td>\n",
       "      <td>0</td>\n",
       "      <td>NaN</td>\n",
       "      <td>саботаж</td>\n",
       "    </tr>\n",
       "    <tr>\n",
       "      <th>4</th>\n",
       "      <td>198905300021</td>\n",
       "      <td>1989</td>\n",
       "      <td>5</td>\n",
       "      <td>30</td>\n",
       "      <td>NaN</td>\n",
       "      <td>0</td>\n",
       "      <td>NaN</td>\n",
       "      <td>217</td>\n",
       "      <td>United States</td>\n",
       "      <td>1</td>\n",
       "      <td>...</td>\n",
       "      <td>FBI, \"Terrorism in the United States: 1989,\" T...</td>\n",
       "      <td>\"Four Environmentalists Arrested on Nuclear Sa...</td>\n",
       "      <td>NaN</td>\n",
       "      <td>Eco Project 2010</td>\n",
       "      <td>0</td>\n",
       "      <td>0</td>\n",
       "      <td>0</td>\n",
       "      <td>0</td>\n",
       "      <td>NaN</td>\n",
       "      <td>саботаж</td>\n",
       "    </tr>\n",
       "  </tbody>\n",
       "</table>\n",
       "<p>5 rows × 136 columns</p>\n",
       "</div>"
      ],
      "text/plain": [
       "        eventid  iyear  imonth  iday           approxdate  extended  \\\n",
       "0  198810250013   1988      10    25  October 25-26, 1988         0   \n",
       "1  201707280045   2017       7    28                  NaN         0   \n",
       "2  201810070039   2018      10     7                  NaN         0   \n",
       "3  198711070018   1987      11     7                  NaN         0   \n",
       "4  198905300021   1989       5    30                  NaN         0   \n",
       "\n",
       "   resolution  country     country_txt  region  ...  \\\n",
       "0         NaN      217   United States       1  ...   \n",
       "1         NaN       54  Czech Republic       9  ...   \n",
       "2         NaN       75         Germany       8  ...   \n",
       "3         NaN      217   United States       1  ...   \n",
       "4         NaN      217   United States       1  ...   \n",
       "\n",
       "                                              scite1  \\\n",
       "0  FBI, \"Terrorism in the United States: 1988,\" T...   \n",
       "1  \"Revision: Prague - Czech 'fake jihadist' face...   \n",
       "2  \"Terrorism Digest: 28-29 October 2018,\" BBC Mo...   \n",
       "3  FBI, \"Terrorism in the United States: 1988,\" T...   \n",
       "4  FBI, \"Terrorism in the United States: 1989,\" T...   \n",
       "\n",
       "                                              scite2  \\\n",
       "0  Angela Astle, \"Sabotage of ski lift detailed i...   \n",
       "1  \"Man caused train crashes then left Arabic mes...   \n",
       "2  \"Germany: Islamic Bulletin for 24-30 October 2...   \n",
       "3  Angela Astle, \"Sabotage of ski lift detailed i...   \n",
       "4  \"Four Environmentalists Arrested on Nuclear Sa...   \n",
       "\n",
       "                                              scite3  \\\n",
       "0  \"The charges against Earth First! Members- a c...   \n",
       "1  \"Terrorism Digest 13-14 January 2019,\" BBC Mon...   \n",
       "2                                                NaN   \n",
       "3  Charlene Smith, \"Environmental Activists Sente...   \n",
       "4                                                NaN   \n",
       "\n",
       "                   dbsource  INT_LOG  INT_IDEO  INT_MISC INT_ANY related  \\\n",
       "0          Eco Project 2010        0         0         0       0     NaN   \n",
       "1  START Primary Collection       -9        -9         0      -9     NaN   \n",
       "2  START Primary Collection       -9        -9         0      -9     NaN   \n",
       "3          Eco Project 2010        0         0         0       0     NaN   \n",
       "4          Eco Project 2010        0         0         0       0     NaN   \n",
       "\n",
       "     fight  \n",
       "0  саботаж  \n",
       "1  саботаж  \n",
       "2  саботаж  \n",
       "3  саботаж  \n",
       "4  саботаж  \n",
       "\n",
       "[5 rows x 136 columns]"
      ]
     },
     "execution_count": 64,
     "metadata": {},
     "output_type": "execute_result"
    }
   ],
   "source": [
    "# Группа 2 - саботаж\n",
    "group2.head()"
   ]
  },
  {
   "cell_type": "code",
   "execution_count": 65,
   "metadata": {},
   "outputs": [
    {
     "data": {
      "text/plain": [
       "(18, 136)"
      ]
     },
     "execution_count": 65,
     "metadata": {},
     "output_type": "execute_result"
    }
   ],
   "source": [
    "# размер Группы 1 - рукопашный бой\n",
    "group1.shape"
   ]
  },
  {
   "cell_type": "code",
   "execution_count": 66,
   "metadata": {},
   "outputs": [
    {
     "data": {
      "text/plain": [
       "(18, 136)"
      ]
     },
     "execution_count": 66,
     "metadata": {},
     "output_type": "execute_result"
    }
   ],
   "source": [
    "# размер Группы 2 - саботаж\n",
    "group2.shape"
   ]
  },
  {
   "cell_type": "markdown",
   "metadata": {},
   "source": [
    "# Посмотрим распредления "
   ]
  },
  {
   "cell_type": "code",
   "execution_count": 67,
   "metadata": {},
   "outputs": [
    {
     "data": {
      "image/png": "[encoded data removed]",
      "text/plain": [
       "<Figure size 432x288 with 1 Axes>"
      ]
     },
     "metadata": {
      "needs_background": "light"
     },
     "output_type": "display_data"
    }
   ],
   "source": [
    "# Распределение количества нападающих - рукопашный бой\n",
    "generate_distribution_histogram(group1, 'nperps',\n",
    "                                    title = 'Распределение количества нападающих',\n",
    "                                    x_axis_label = 'Количество нападающих',\n",
    "                                    y_axis_label = 'Количество инцидентов',\n",
    "                                    label_name = 'рукопашный бой')"
   ]
  },
  {
   "cell_type": "code",
   "execution_count": 68,
   "metadata": {},
   "outputs": [
    {
     "data": {
      "image/png": "[encoded data removed]",
      "text/plain": [
       "<Figure size 432x288 with 1 Axes>"
      ]
     },
     "metadata": {
      "needs_background": "light"
     },
     "output_type": "display_data"
    }
   ],
   "source": [
    "# Распределение количества нападающих - саботаж\n",
    "generate_distribution_histogram(group2, 'nperps',\n",
    "                                    title = 'Распределение количества нападающих',\n",
    "                                    x_axis_label = 'Количество нападающих',\n",
    "                                    y_axis_label = 'Количество инцидентов',\n",
    "                                    label_name = 'саботаж')"
   ]
  },
  {
   "cell_type": "code",
   "execution_count": 69,
   "metadata": {},
   "outputs": [
    {
     "data": {
      "image/png": "[encoded data removed]",
      "text/plain": [
       "<Figure size 432x288 with 1 Axes>"
      ]
     },
     "metadata": {
      "needs_background": "light"
     },
     "output_type": "display_data"
    }
   ],
   "source": [
    "# Распределение количества нападающих - рукопашный бой\n",
    "# Распределение количества нападающих - саботаж\n",
    "generate_distribution_histogram(group1, 'nperps',\n",
    "                                    title = 'Распределение количества нападающих',\n",
    "                                    x_axis_label = 'Количество нападающих',\n",
    "                                    y_axis_label = 'Количество инцидентов',\n",
    "                                    label_name = 'рукопашный бой')\n",
    "\n",
    "generate_distribution_histogram(group2, 'nperps',\n",
    "                                    title = 'Распределение количества нападающих',\n",
    "                                    x_axis_label = 'Количество нападающих',\n",
    "                                    y_axis_label = 'Количество инцидентов',\n",
    "                                    label_name = 'саботаж')"
   ]
  },
  {
   "cell_type": "code",
   "execution_count": 70,
   "metadata": {},
   "outputs": [
    {
     "data": {
      "text/plain": [
       "[5.0,\n",
       " 20.0,\n",
       " 3.0,\n",
       " 70.0,\n",
       " 4.0,\n",
       " 60.0,\n",
       " 28.0,\n",
       " 12.0,\n",
       " 1.0,\n",
       " 15.0,\n",
       " 30.0,\n",
       " 3.0,\n",
       " 14.0,\n",
       " 8.0,\n",
       " 40.0,\n",
       " 20.0,\n",
       " 30.0,\n",
       " 1.0]"
      ]
     },
     "execution_count": 70,
     "metadata": {},
     "output_type": "execute_result"
    }
   ],
   "source": [
    "# количество нападающих группа 1 - рукопашный бой\n",
    "list(group1['nperps'])"
   ]
  },
  {
   "cell_type": "code",
   "execution_count": 71,
   "metadata": {},
   "outputs": [
    {
     "data": {
      "text/plain": [
       "[4.0,\n",
       " 1.0,\n",
       " 1.0,\n",
       " 4.0,\n",
       " 2.0,\n",
       " 100.0,\n",
       " 100.0,\n",
       " 1.0,\n",
       " 3.0,\n",
       " 80.0,\n",
       " 1.0,\n",
       " 10.0,\n",
       " 100.0,\n",
       " 30.0,\n",
       " 4.0,\n",
       " 1.0,\n",
       " 25.0,\n",
       " 1.0]"
      ]
     },
     "execution_count": 71,
     "metadata": {},
     "output_type": "execute_result"
    }
   ],
   "source": [
    "# количество нападающих группа 2 - саботаж\n",
    "list(group2['nperps'])"
   ]
  },
  {
   "cell_type": "code",
   "execution_count": 72,
   "metadata": {},
   "outputs": [
    {
     "name": "stdout",
     "output_type": "stream",
     "text": [
      "U-Statistic:  129.5\n",
      "p-value:  0.15398778302183613\n"
     ]
    },
    {
     "data": {
      "text/plain": [
       "(129.5, 0.15398778302183613)"
      ]
     },
     "execution_count": 72,
     "metadata": {},
     "output_type": "execute_result"
    }
   ],
   "source": [
    "mann_whitney_u_test(list(group2['nperps']), list(group1['nperps']))"
   ]
  },
  {
   "cell_type": "markdown",
   "metadata": {},
   "source": [
    "## Статистическая значимость p = 0.15, так как p > 0.05, то нулевая гипотеза о том, что группы не имеют различий подтверждается.  "
   ]
  },
  {
   "cell_type": "code",
   "execution_count": null,
   "metadata": {},
   "outputs": [],
   "source": []
  }
 ],
 "metadata": {
  "kernelspec": {
   "display_name": "Python 3",
   "language": "python",
   "name": "python3"
  },
  "language_info": {
   "codemirror_mode": {
    "name": "ipython",
    "version": 3
   },
   "file_extension": ".py",
   "mimetype": "text/x-python",
   "name": "python",
   "nbconvert_exporter": "python",
   "pygments_lexer": "ipython3",
   "version": "3.8.5"
  }
 },
 "nbformat": 4,
 "nbformat_minor": 4
}
